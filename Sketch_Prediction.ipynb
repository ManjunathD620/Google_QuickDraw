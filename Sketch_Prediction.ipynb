{
  "nbformat": 4,
  "nbformat_minor": 0,
  "metadata": {
    "colab": {
      "name": "Sketch Prediction.ipynb",
      "provenance": [],
      "collapsed_sections": [],
      "include_colab_link": true
    },
    "kernelspec": {
      "name": "python3",
      "display_name": "Python 3"
    },
    "language_info": {
      "name": "python"
    }
  },
  "cells": [
    {
      "cell_type": "markdown",
      "metadata": {
        "id": "view-in-github",
        "colab_type": "text"
      },
      "source": [
        "<a href=\"https://colab.research.google.com/github/ManjunathD620/Google_QuickDraw/blob/main/Sketch_Prediction.ipynb\" target=\"_parent\"><img src=\"https://colab.research.google.com/assets/colab-badge.svg\" alt=\"Open In Colab\"/></a>"
      ]
    },
    {
      "cell_type": "code",
      "metadata": {
        "colab": {
          "base_uri": "https://localhost:8080/"
        },
        "id": "ndIMBStAO3pe",
        "outputId": "1aae37c3-8fd8-4f15-dc34-125596fecb12"
      },
      "source": [
        "!pip install ndjson\n",
        "!mkdir data_sets\n",
        "!pip install keras_tuner\n",
        "\n",
        "from urllib.request import urlretrieve\n",
        "import ndjson\n",
        "import os\n",
        "import random\n",
        "\n",
        "from PIL import Image,ImageDraw,ImageOps\n",
        "import numpy as np\n",
        "import cv2\n",
        "import matplotlib.pyplot as plt\n",
        "\n",
        "from tensorflow.keras.utils import to_categorical\n",
        "from sklearn.model_selection import train_test_split"
      ],
      "execution_count": null,
      "outputs": [
        {
          "output_type": "stream",
          "name": "stdout",
          "text": [
            "Collecting ndjson\n",
            "  Downloading ndjson-0.3.1-py2.py3-none-any.whl (5.3 kB)\n",
            "Installing collected packages: ndjson\n",
            "Successfully installed ndjson-0.3.1\n",
            "Collecting keras_tuner\n",
            "  Downloading keras_tuner-1.1.0-py3-none-any.whl (98 kB)\n",
            "\u001b[K     |████████████████████████████████| 98 kB 5.1 MB/s \n",
            "\u001b[?25hRequirement already satisfied: requests in /usr/local/lib/python3.7/dist-packages (from keras_tuner) (2.23.0)\n",
            "Requirement already satisfied: tensorboard in /usr/local/lib/python3.7/dist-packages (from keras_tuner) (2.7.0)\n",
            "Requirement already satisfied: ipython in /usr/local/lib/python3.7/dist-packages (from keras_tuner) (5.5.0)\n",
            "Requirement already satisfied: scipy in /usr/local/lib/python3.7/dist-packages (from keras_tuner) (1.4.1)\n",
            "Requirement already satisfied: numpy in /usr/local/lib/python3.7/dist-packages (from keras_tuner) (1.19.5)\n",
            "Collecting kt-legacy\n",
            "  Downloading kt_legacy-1.0.4-py3-none-any.whl (9.6 kB)\n",
            "Requirement already satisfied: packaging in /usr/local/lib/python3.7/dist-packages (from keras_tuner) (21.3)\n",
            "Requirement already satisfied: decorator in /usr/local/lib/python3.7/dist-packages (from ipython->keras_tuner) (4.4.2)\n",
            "Requirement already satisfied: pickleshare in /usr/local/lib/python3.7/dist-packages (from ipython->keras_tuner) (0.7.5)\n",
            "Requirement already satisfied: simplegeneric>0.8 in /usr/local/lib/python3.7/dist-packages (from ipython->keras_tuner) (0.8.1)\n",
            "Requirement already satisfied: pexpect in /usr/local/lib/python3.7/dist-packages (from ipython->keras_tuner) (4.8.0)\n",
            "Requirement already satisfied: pygments in /usr/local/lib/python3.7/dist-packages (from ipython->keras_tuner) (2.6.1)\n",
            "Requirement already satisfied: traitlets>=4.2 in /usr/local/lib/python3.7/dist-packages (from ipython->keras_tuner) (5.1.1)\n",
            "Requirement already satisfied: setuptools>=18.5 in /usr/local/lib/python3.7/dist-packages (from ipython->keras_tuner) (57.4.0)\n",
            "Requirement already satisfied: prompt-toolkit<2.0.0,>=1.0.4 in /usr/local/lib/python3.7/dist-packages (from ipython->keras_tuner) (1.0.18)\n",
            "Requirement already satisfied: wcwidth in /usr/local/lib/python3.7/dist-packages (from prompt-toolkit<2.0.0,>=1.0.4->ipython->keras_tuner) (0.2.5)\n",
            "Requirement already satisfied: six>=1.9.0 in /usr/local/lib/python3.7/dist-packages (from prompt-toolkit<2.0.0,>=1.0.4->ipython->keras_tuner) (1.15.0)\n",
            "Requirement already satisfied: pyparsing!=3.0.5,>=2.0.2 in /usr/local/lib/python3.7/dist-packages (from packaging->keras_tuner) (3.0.6)\n",
            "Requirement already satisfied: ptyprocess>=0.5 in /usr/local/lib/python3.7/dist-packages (from pexpect->ipython->keras_tuner) (0.7.0)\n",
            "Requirement already satisfied: chardet<4,>=3.0.2 in /usr/local/lib/python3.7/dist-packages (from requests->keras_tuner) (3.0.4)\n",
            "Requirement already satisfied: urllib3!=1.25.0,!=1.25.1,<1.26,>=1.21.1 in /usr/local/lib/python3.7/dist-packages (from requests->keras_tuner) (1.24.3)\n",
            "Requirement already satisfied: idna<3,>=2.5 in /usr/local/lib/python3.7/dist-packages (from requests->keras_tuner) (2.10)\n",
            "Requirement already satisfied: certifi>=2017.4.17 in /usr/local/lib/python3.7/dist-packages (from requests->keras_tuner) (2021.10.8)\n",
            "Requirement already satisfied: protobuf>=3.6.0 in /usr/local/lib/python3.7/dist-packages (from tensorboard->keras_tuner) (3.17.3)\n",
            "Requirement already satisfied: werkzeug>=0.11.15 in /usr/local/lib/python3.7/dist-packages (from tensorboard->keras_tuner) (1.0.1)\n",
            "Requirement already satisfied: grpcio>=1.24.3 in /usr/local/lib/python3.7/dist-packages (from tensorboard->keras_tuner) (1.42.0)\n",
            "Requirement already satisfied: absl-py>=0.4 in /usr/local/lib/python3.7/dist-packages (from tensorboard->keras_tuner) (0.12.0)\n",
            "Requirement already satisfied: tensorboard-plugin-wit>=1.6.0 in /usr/local/lib/python3.7/dist-packages (from tensorboard->keras_tuner) (1.8.0)\n",
            "Requirement already satisfied: google-auth<3,>=1.6.3 in /usr/local/lib/python3.7/dist-packages (from tensorboard->keras_tuner) (1.35.0)\n",
            "Requirement already satisfied: markdown>=2.6.8 in /usr/local/lib/python3.7/dist-packages (from tensorboard->keras_tuner) (3.3.6)\n",
            "Requirement already satisfied: google-auth-oauthlib<0.5,>=0.4.1 in /usr/local/lib/python3.7/dist-packages (from tensorboard->keras_tuner) (0.4.6)\n",
            "Requirement already satisfied: tensorboard-data-server<0.7.0,>=0.6.0 in /usr/local/lib/python3.7/dist-packages (from tensorboard->keras_tuner) (0.6.1)\n",
            "Requirement already satisfied: wheel>=0.26 in /usr/local/lib/python3.7/dist-packages (from tensorboard->keras_tuner) (0.37.0)\n",
            "Requirement already satisfied: rsa<5,>=3.1.4 in /usr/local/lib/python3.7/dist-packages (from google-auth<3,>=1.6.3->tensorboard->keras_tuner) (4.7.2)\n",
            "Requirement already satisfied: pyasn1-modules>=0.2.1 in /usr/local/lib/python3.7/dist-packages (from google-auth<3,>=1.6.3->tensorboard->keras_tuner) (0.2.8)\n",
            "Requirement already satisfied: cachetools<5.0,>=2.0.0 in /usr/local/lib/python3.7/dist-packages (from google-auth<3,>=1.6.3->tensorboard->keras_tuner) (4.2.4)\n",
            "Requirement already satisfied: requests-oauthlib>=0.7.0 in /usr/local/lib/python3.7/dist-packages (from google-auth-oauthlib<0.5,>=0.4.1->tensorboard->keras_tuner) (1.3.0)\n",
            "Requirement already satisfied: importlib-metadata>=4.4 in /usr/local/lib/python3.7/dist-packages (from markdown>=2.6.8->tensorboard->keras_tuner) (4.8.2)\n",
            "Requirement already satisfied: zipp>=0.5 in /usr/local/lib/python3.7/dist-packages (from importlib-metadata>=4.4->markdown>=2.6.8->tensorboard->keras_tuner) (3.6.0)\n",
            "Requirement already satisfied: typing-extensions>=3.6.4 in /usr/local/lib/python3.7/dist-packages (from importlib-metadata>=4.4->markdown>=2.6.8->tensorboard->keras_tuner) (3.10.0.2)\n",
            "Requirement already satisfied: pyasn1<0.5.0,>=0.4.6 in /usr/local/lib/python3.7/dist-packages (from pyasn1-modules>=0.2.1->google-auth<3,>=1.6.3->tensorboard->keras_tuner) (0.4.8)\n",
            "Requirement already satisfied: oauthlib>=3.0.0 in /usr/local/lib/python3.7/dist-packages (from requests-oauthlib>=0.7.0->google-auth-oauthlib<0.5,>=0.4.1->tensorboard->keras_tuner) (3.1.1)\n",
            "Installing collected packages: kt-legacy, keras-tuner\n",
            "Successfully installed keras-tuner-1.1.0 kt-legacy-1.0.4\n"
          ]
        }
      ]
    },
    {
      "cell_type": "code",
      "metadata": {
        "id": "m3xeoJQB5NAN"
      },
      "source": [
        "def crop_image(img):\n",
        "  width,height = img.size\n",
        "  pixel = img.load()\n",
        "  rows =[]\n",
        "  cols =[]\n",
        "\n",
        "  for i in range(width):\n",
        "    for j in range(height):\n",
        "      if(pixel[i,j][2]>0):\n",
        "        rows.append(j)\n",
        "        cols.append(i)\n",
        "\n",
        "  row_min = np.array(rows).min()\n",
        "  row_max = np.array(rows).max()\n",
        "  col_min = np.array(cols).min()\n",
        "  col_max = np.array(cols).max()\n",
        "\n",
        "  border = (col_min,row_min,width-col_max,height-row_max)\n",
        "  \n",
        "  newImage = ImageOps.crop(img,border)\n",
        "  return newImage"
      ],
      "execution_count": null,
      "outputs": []
    },
    {
      "cell_type": "code",
      "metadata": {
        "colab": {
          "base_uri": "https://localhost:8080/"
        },
        "id": "AlWkLPO_JeAu",
        "outputId": "137300d0-4194-44be-e3d1-ad8c147672d8"
      },
      "source": [
        "ff = open(\"/content/Quick draw set link.txt\")\n",
        "classes = ff.readlines()\n",
        "classes = classes[:20]\n",
        "\n",
        "all_images = []\n",
        "all_labels = []\n",
        "\n",
        "waste = 0\n",
        "class_index = 0\n",
        "total_images_from_set = 20000\n",
        "\n",
        "for file_name in classes:\n",
        "  print(class_index+1,file_name[:-9])\n",
        "  name = \"%20\".join(file_name.split(' '))\n",
        "  name = name[3:-4]\n",
        "  urlretrieve(f\"https://storage.googleapis.com/quickdraw_dataset/full/simplified/{name}\",f\"/content/data_sets/{file_name}\")  \n",
        "  \n",
        "  with open(f\"/content/data_sets/{file_name}\") as f:\n",
        "    raw = ndjson.load(f)\n",
        "    \n",
        "    valid = 0\n",
        "\n",
        "    for raw_img in raw:\n",
        "      stroke = []\n",
        "      if(raw_img[\"recognized\"] == True):\n",
        "        stroke_lines = raw_img[\"drawing\"]\n",
        "        for j in range(len(stroke_lines)):\n",
        "          for i in range(len(stroke_lines[j][0])):\n",
        "            stroke.append((stroke_lines[j][0][i],stroke_lines[j][1][i]))\n",
        "        simplifiedImage = Image.new(\"RGB\",(256,256))\n",
        "        draw = ImageDraw.Draw(simplifiedImage)\n",
        "        draw.line(stroke,fill=\"white\",width = 16)\n",
        "        img1 = crop_image(simplifiedImage)\n",
        "        img1 = cv2.resize(np.array(img1),(28,28), interpolation= cv2.INTER_AREA)\n",
        "        out = cv2.cvtColor(img1,cv2.COLOR_BGR2GRAY)\n",
        "\n",
        "        all_images.append(out)\n",
        "        all_labels.append(class_index)\n",
        "        valid+=1\n",
        "\n",
        "        if(valid == 1000 or valid == 5000 or valid == 10000 or valid == 15000 or valid == 19000):\n",
        "          print(\"  \",valid)\n",
        "\n",
        "        elif(valid==total_images_from_set):\n",
        "          break\n",
        "\n",
        "      else:\n",
        "        waste +=1\n",
        "  os.remove(f\"/content/data_sets/{file_name}\")\n",
        "\n",
        "  class_index +=1\n",
        "\n",
        "data = [all_images,all_labels]\n",
        "data = np.asarray(data)\n",
        "np.save(\"/content/drive/MyDrive/data.npy\",data)"
      ],
      "execution_count": null,
      "outputs": [
        {
          "output_type": "stream",
          "name": "stdout",
          "text": [
            "1  The Eiffel Tower\n",
            "   1000\n",
            "   5000\n",
            "   10000\n",
            "   15000\n",
            "   19000\n",
            "2  airplane\n",
            "   1000\n",
            "   5000\n",
            "   10000\n",
            "   15000\n",
            "   19000\n",
            "3  apple\n",
            "   1000\n",
            "   5000\n",
            "   10000\n",
            "   15000\n",
            "   19000\n",
            "4  axe\n",
            "   1000\n",
            "   5000\n",
            "   10000\n",
            "   15000\n",
            "   19000\n",
            "5  backpack\n",
            "   1000\n",
            "   5000\n",
            "   10000\n",
            "   15000\n",
            "   19000\n",
            "6  banana\n",
            "   1000\n",
            "   5000\n",
            "   10000\n",
            "   15000\n",
            "   19000\n",
            "7  bench\n",
            "   1000\n",
            "   5000\n",
            "   10000\n",
            "   15000\n",
            "   19000\n",
            "8  bicycle\n",
            "   1000\n",
            "   5000\n",
            "   10000\n",
            "   15000\n",
            "   19000\n",
            "9  birthday cake\n",
            "   1000\n",
            "   5000\n",
            "   10000\n",
            "   15000\n",
            "   19000\n",
            "10  book\n",
            "   1000\n",
            "   5000\n",
            "   10000\n",
            "   15000\n",
            "   19000\n",
            "11  bucket\n",
            "   1000\n",
            "   5000\n",
            "   10000\n",
            "   15000\n",
            "   19000\n",
            "12  calendar\n",
            "   1000\n",
            "   5000\n",
            "   10000\n",
            "   15000\n",
            "   19000\n",
            "13  lollipop\n",
            "   1000\n",
            "   5000\n",
            "   10000\n",
            "   15000\n",
            "   19000\n",
            "14  camera\n",
            "   1000\n",
            "   5000\n",
            "   10000\n",
            "   15000\n",
            "   19000\n",
            "15  candle\n",
            "   1000\n",
            "   5000\n",
            "   10000\n",
            "   15000\n",
            "   19000\n",
            "16  car\n",
            "   1000\n",
            "   5000\n",
            "   10000\n",
            "   15000\n",
            "   19000\n",
            "17  clock\n",
            "   1000\n",
            "   5000\n",
            "   10000\n",
            "   15000\n",
            "   19000\n",
            "18  donut\n",
            "   1000\n",
            "   5000\n",
            "   10000\n",
            "   15000\n",
            "   19000\n",
            "19  eye\n",
            "   1000\n",
            "   5000\n",
            "   10000\n",
            "   15000\n",
            "   19000\n",
            "20  face\n",
            "   1000\n",
            "   5000\n",
            "   10000\n",
            "   15000\n",
            "   19000\n"
          ]
        },
        {
          "output_type": "stream",
          "name": "stderr",
          "text": [
            "/usr/local/lib/python3.7/dist-packages/numpy/core/_asarray.py:83: VisibleDeprecationWarning: Creating an ndarray from ragged nested sequences (which is a list-or-tuple of lists-or-tuples-or ndarrays with different lengths or shapes) is deprecated. If you meant to do this, you must specify 'dtype=object' when creating the ndarray\n",
            "  return array(a, dtype, copy=False, order=order)\n"
          ]
        }
      ]
    },
    {
      "cell_type": "code",
      "metadata": {
        "id": "Z0qxpzHJ-Rz6",
        "colab": {
          "base_uri": "https://localhost:8080/"
        },
        "outputId": "b0bc82d4-9e9a-4c45-f0cf-1029f092d345"
      },
      "source": [
        "print(waste)"
      ],
      "execution_count": null,
      "outputs": [
        {
          "output_type": "stream",
          "name": "stdout",
          "text": [
            "22857\n"
          ]
        }
      ]
    },
    {
      "cell_type": "code",
      "metadata": {
        "id": "38L7-cabgXN8"
      },
      "source": [
        "d = np.load(\"/content/drive/MyDrive/data.npy\",allow_pickle=True)\n",
        "\n",
        "showImages = []\n",
        "showLabels = []\n",
        "\n",
        "select = [(x*20000) for x in range(21)]\n",
        "\n",
        "for i in range(len(select)-1):\n",
        "  choose = random.randint(select[i],(select[i+1]-1))\n",
        "  showImages.append(d[0][choose])\n",
        "  showLabels.append(d[1][choose])"
      ],
      "execution_count": null,
      "outputs": []
    },
    {
      "cell_type": "code",
      "metadata": {
        "id": "sheKOFrbl9ko"
      },
      "source": [
        "ff = open(\"/content/drive/MyDrive/Quick draw set link.txt\")\n",
        "classes = ff.readlines()\n",
        "classes = classes[:20]"
      ],
      "execution_count": null,
      "outputs": []
    },
    {
      "cell_type": "code",
      "metadata": {
        "colab": {
          "base_uri": "https://localhost:8080/",
          "height": 938
        },
        "id": "9b9MwTFYk4s4",
        "outputId": "7bf8086a-99db-414b-fa6f-f541399a18f0"
      },
      "source": [
        "fig = plt.figure(figsize=(15,15))\n",
        "\n",
        "fig.suptitle('Demo Images', fontsize=20)\n",
        "fig.tight_layout()\n",
        "\n",
        "for i in range(20):\n",
        "  fig.add_subplot(4,5,i+1)\n",
        "  plt.axis(\"off\")\n",
        "  plt.title(classes[showLabels[i]][:-9])\n",
        "  plt.imshow(showImages[i])"
      ],
      "execution_count": null,
      "outputs": [
        {
          "output_type": "display_data",
          "data": {
            "image/png": "[encoded data removed]",
            "text/plain": [
              "<Figure size 1080x1080 with 20 Axes>"
            ]
          },
          "metadata": {
            "needs_background": "light"
          }
        }
      ]
    },
    {
      "cell_type": "code",
      "metadata": {
        "id": "KYLlA4Qanj-h"
      },
      "source": [
        "data = np.load(\"/content/drive/MyDrive/data.npy\",allow_pickle=True)\n",
        "\n",
        "x = data[0]\n",
        "x_split = []\n",
        "\n",
        "for i in x:\n",
        "  x_split.append(i.astype(\"float32\")/255.0)\n",
        "\n",
        "x_split = np.asarray(x_split)\n",
        "y_split = to_categorical(data[1])\n",
        "\n",
        "x_train , x_test , y_train , y_test = train_test_split(x_split,y_split, train_size=0.75,test_size=0.25, random_state=10)"
      ],
      "execution_count": null,
      "outputs": []
    },
    {
      "cell_type": "code",
      "metadata": {
        "colab": {
          "base_uri": "https://localhost:8080/"
        },
        "id": "NeSTR2-ens2A",
        "outputId": "38145f89-98f3-4bdb-f1ef-2531c36c55b3"
      },
      "source": [
        "x_test.shape"
      ],
      "execution_count": null,
      "outputs": [
        {
          "output_type": "execute_result",
          "data": {
            "text/plain": [
              "(100000, 28, 28)"
            ]
          },
          "metadata": {},
          "execution_count": 7
        }
      ]
    },
    {
      "cell_type": "code",
      "metadata": {
        "id": "gXlmveqn9QR3"
      },
      "source": [
        "x_train = x_train.reshape(len(x_train),28,28,1)\n",
        "x_test = x_test.reshape(len(x_test),28,28,1)"
      ],
      "execution_count": null,
      "outputs": []
    },
    {
      "cell_type": "code",
      "metadata": {
        "id": "43ZCe0Cxi18R"
      },
      "source": [
        "from tensorflow.keras import models,layers\n",
        "from tensorflow import keras\n",
        "\n",
        "def build_model(hp):\n",
        "  model = models.Sequential()\n",
        "  model.add(layers.Conv2D(filters=hp.Choice(\"conv_1\",values=[300,450,600]),\n",
        "                          kernel_size=hp.Choice(\"kernel_1\",values = [3,5]),\n",
        "                          activation = \"relu\",\n",
        "                          input_shape = (28,28,1)))\n",
        "  model.add(layers.MaxPooling2D((2,2)))\n",
        "  model.add(layers.Conv2D(filters=hp.Choice(\"conv_2\",values=[300,350,400]),\n",
        "                          kernel_size=hp.Choice(\"kernel_2\",values = [3,5]),\n",
        "                          activation=\"relu\"))\n",
        "  model.add(layers.MaxPooling2D((2,2)))\n",
        "\n",
        "  model.add(layers.Flatten())\n",
        "  model.add(layers.Dense(units=hp.Choice(\"dense\",values = [500,600,700]),\n",
        "        activation='relu'))\n",
        "  model.add(layers.Dense(20,activation=\"softmax\"))\n",
        "\n",
        "  speed = hp.Choice(\"learning_rate\",values=[1e-2, 1e-3])\n",
        "\n",
        "  model.compile(optimizer = keras.optimizers.Adam(learning_rate=speed),\n",
        "                loss = keras.losses.categorical_crossentropy,\n",
        "                metrics=['accuracy'])\n",
        "  \n",
        "  return model"
      ],
      "execution_count": null,
      "outputs": []
    },
    {
      "cell_type": "code",
      "metadata": {
        "id": "tCxF1w_LxXGv"
      },
      "source": [
        "import keras_tuner as kt\n",
        "\n",
        "tunner = kt.Hyperband(build_model,\n",
        "                      objective=\"val_accuracy\",\n",
        "                      max_epochs=5,\n",
        "                      factor=2,\n",
        "                      directory='output',\n",
        "                      project_name='Quick draw')"
      ],
      "execution_count": null,
      "outputs": []
    },
    {
      "cell_type": "code",
      "metadata": {
        "id": "o_bqZwOJi2GE"
      },
      "source": [
        "import tensorflow as tf\n",
        "stop = tf.keras.callbacks.EarlyStopping(monitor='val_loss', patience=3)"
      ],
      "execution_count": null,
      "outputs": []
    },
    {
      "cell_type": "code",
      "metadata": {
        "colab": {
          "base_uri": "https://localhost:8080/"
        },
        "id": "MOnjIWmu7wH8",
        "outputId": "8948fb23-a74e-461d-c931-5ed3363834b8"
      },
      "source": [
        "tunner.search(x_train[:60000], y_train[:60000], epochs=3, validation_split=0.2, callbacks=[stop])"
      ],
      "execution_count": null,
      "outputs": [
        {
          "output_type": "stream",
          "name": "stdout",
          "text": [
            "Trial 21 Complete [00h 03m 30s]\n",
            "val_accuracy: 0.9178333282470703\n",
            "\n",
            "Best val_accuracy So Far: 0.9178333282470703\n",
            "Total elapsed time: 00h 56m 48s\n",
            "INFO:tensorflow:Oracle triggered exit\n"
          ]
        }
      ]
    },
    {
      "cell_type": "code",
      "metadata": {
        "id": "lZH7-siIj0wq"
      },
      "source": [
        "best_hps=tunner.get_best_hyperparameters(num_trials=1)[0]"
      ],
      "execution_count": null,
      "outputs": []
    },
    {
      "cell_type": "code",
      "metadata": {
        "colab": {
          "base_uri": "https://localhost:8080/"
        },
        "id": "Bsah_Cffj6ir",
        "outputId": "ac2277bb-53d4-4b7e-d61d-7fc3f29ff89b"
      },
      "source": [
        "bestModel = tunner.hypermodel.build(best_hps)\n",
        "\n",
        "bestModel.fit(x_train, y_train, epochs=5,batch_size=400,validation_split=0.2)"
      ],
      "execution_count": null,
      "outputs": [
        {
          "output_type": "stream",
          "name": "stdout",
          "text": [
            "Epoch 1/5\n",
            "600/600 [==============================] - 124s 200ms/step - loss: 0.3904 - accuracy: 0.8839 - val_loss: 0.2143 - val_accuracy: 0.9375\n",
            "Epoch 2/5\n",
            "600/600 [==============================] - 119s 199ms/step - loss: 0.1734 - accuracy: 0.9474 - val_loss: 0.1788 - val_accuracy: 0.9469\n",
            "Epoch 3/5\n",
            "600/600 [==============================] - 119s 199ms/step - loss: 0.1207 - accuracy: 0.9625 - val_loss: 0.1664 - val_accuracy: 0.9510\n",
            "Epoch 4/5\n",
            "600/600 [==============================] - 118s 197ms/step - loss: 0.0796 - accuracy: 0.9747 - val_loss: 0.1739 - val_accuracy: 0.9519\n",
            "Epoch 5/5\n",
            "600/600 [==============================] - 118s 197ms/step - loss: 0.0501 - accuracy: 0.9838 - val_loss: 0.1930 - val_accuracy: 0.9521\n"
          ]
        },
        {
          "output_type": "execute_result",
          "data": {
            "text/plain": [
              "<keras.callbacks.History at 0x7f881b13ee50>"
            ]
          },
          "metadata": {},
          "execution_count": 25
        }
      ]
    },
    {
      "cell_type": "code",
      "metadata": {
        "id": "uFC9Vaidj67G"
      },
      "source": [
        "bestModel.save(\"/content/drive/MyDrive/model/model_95_21.h5\")"
      ],
      "execution_count": null,
      "outputs": []
    },
    {
      "cell_type": "code",
      "metadata": {
        "id": "ZPiyMaD7pYzc"
      },
      "source": [
        "ff = open(\"/content/Quick draw set link.txt\")\n",
        "classes = ff.readlines()\n",
        "classes = classes[:20]"
      ],
      "execution_count": null,
      "outputs": []
    },
    {
      "cell_type": "code",
      "metadata": {
        "colab": {
          "base_uri": "https://localhost:8080/"
        },
        "id": "pWdQYbULU6K_",
        "outputId": "72feab7f-d843-48eb-c533-02302b378af8"
      },
      "source": [
        "nn = []\n",
        "for k in classes:\n",
        "  nn.append(k[1:-9])\n",
        "\n",
        "print(nn)"
      ],
      "execution_count": null,
      "outputs": [
        {
          "output_type": "stream",
          "name": "stdout",
          "text": [
            "['The Eiffel Tower', 'airplane', 'apple', 'axe', 'backpack', 'banana', 'bench', 'bicycle', 'birthday cake', 'book', 'bucket', 'calendar', 'lollipop', 'camera', 'candle', 'car', 'clock', 'donut', 'eye', 'face']\n"
          ]
        }
      ]
    },
    {
      "cell_type": "code",
      "metadata": {
        "id": "sOXuScJN8tS7"
      },
      "source": [
        "from keras.models import load_model\n",
        "model = load_model(\"/content/drive/MyDrive/model/model_95_21.h5\")"
      ],
      "execution_count": null,
      "outputs": []
    },
    {
      "cell_type": "code",
      "metadata": {
        "colab": {
          "base_uri": "https://localhost:8080/",
          "height": 282
        },
        "id": "bXq6k58X89WV",
        "outputId": "08432513-f521-40e9-8006-fdb85c24a393"
      },
      "source": [
        "test = cv2.imread(\"test.jpg\")\n",
        "test = cv2.cvtColor(test,cv2.COLOR_BGR2GRAY)\n",
        "plt.imshow(test)\n",
        "test = test.astype(\"float32\")/255.0\n",
        "test = test.reshape(28,28,1)\n",
        "test = np.expand_dims(test,axis=0)\n",
        "print(test.shape)"
      ],
      "execution_count": null,
      "outputs": [
        {
          "output_type": "stream",
          "name": "stdout",
          "text": [
            "(1, 28, 28, 1)\n"
          ]
        },
        {
          "output_type": "display_data",
          "data": {
            "image/png": "[encoded data removed]",
            "text/plain": [
              "<Figure size 432x288 with 1 Axes>"
            ]
          },
          "metadata": {
            "needs_background": "light"
          }
        }
      ]
    },
    {
      "cell_type": "code",
      "metadata": {
        "colab": {
          "base_uri": "https://localhost:8080/",
          "height": 282
        },
        "id": "K3a8FdJYomYo",
        "outputId": "356ead92-90bf-4b23-9c82-dfdff7c15cc2"
      },
      "source": [
        "# test = np.expand_dims(x_test[random.randint(0,len(x_test))], axis=0)\n",
        "# test = x_test[random.randint(0,len(x_test))]\n",
        "s = model.predict(test)\n",
        "plt.imshow(test.reshape(28,28))\n",
        "result = np.argmax(s)\n",
        "print(classes[result][:-9])\n"
      ],
      "execution_count": null,
      "outputs": [
        {
          "output_type": "stream",
          "name": "stdout",
          "text": [
            " camera\n"
          ]
        },
        {
          "output_type": "display_data",
          "data": {
            "image/png": "[encoded data removed]",
            "text/plain": [
              "<Figure size 432x288 with 1 Axes>"
            ]
          },
          "metadata": {
            "needs_background": "light"
          }
        }
      ]
    }
  ]
}